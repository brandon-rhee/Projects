{
 "cells": [
  {
   "cell_type": "code",
   "execution_count": 16,
   "id": "62a03589",
   "metadata": {},
   "outputs": [],
   "source": [
    "import pandas as pd  \n",
    "import os"
   ]
  },
  {
   "cell_type": "code",
   "execution_count": 4,
   "id": "0647746d",
   "metadata": {},
   "outputs": [],
   "source": [
    "pd.set_option('display.max_columns', None)\n",
    "pd.set_option('display.max_rows', None)"
   ]
  },
  {
   "cell_type": "markdown",
   "id": "f0b7f2fd",
   "metadata": {},
   "source": [
    "Importing and cleaning files before mapping"
   ]
  },
  {
   "cell_type": "code",
   "execution_count": 5,
   "id": "631a993e",
   "metadata": {},
   "outputs": [],
   "source": [
    "folder_path = '/Users/brandonrhee/Desktop/zipcode_analysis/Data'"
   ]
  },
  {
   "cell_type": "code",
   "execution_count": 6,
   "id": "1aa9185e",
   "metadata": {},
   "outputs": [],
   "source": [
    "# four different data sets used to consolidate into one data set mapping zip codes with another\n",
    "file_path1 = os.path.join(folder_path, 'household_size.csv')\n",
    "file_path3 = os.path.join(folder_path, 'zip_county.xlsx')\n",
    "file_path4 = os.path.join(folder_path, 'median_income.csv')\n",
    "file_path5 = os.path.join(folder_path, 'income_limits.xlsx')"
   ]
  },
  {
   "cell_type": "code",
   "execution_count": 7,
   "id": "25788186",
   "metadata": {},
   "outputs": [],
   "source": [
    "#imported zip_county and utilizing only zip and county columns\n",
    "zip_county = pd.read_excel(file_path3, dtype ={'zip':'string', 'county':'string'}, usecols = ['zip', 'county'])"
   ]
  },
  {
   "cell_type": "code",
   "execution_count": 8,
   "id": "2ba1917e",
   "metadata": {},
   "outputs": [],
   "source": [
    "#split ZCTA from zip code \n",
    "household_size = pd.read_csv(file_path1, usecols = ['NAME', 'S1101_C01_002E'], converters={'NAME': lambda s: s.split(' ')[1]})\n",
    "#drop first row\n",
    "household_size.drop(0, axis = 0, inplace=True)\n",
    "#rename cols for continuity \n",
    "household_size.rename(columns = {'NAME':'zip','S1101_C01_002E':'avg_size'}, inplace=True)\n",
    "#removed rows where there was null median income \n",
    "household_size = household_size[household_size['avg_size'] != '-']\n",
    "# converted avg size to float \n",
    "household_size = household_size.astype({'avg_size': 'float'})\n",
    "#rounded avg_size\n",
    "household_size['avg_size'] = household_size['avg_size'].apply(lambda n: round(n))"
   ]
  },
  {
   "cell_type": "code",
   "execution_count": 9,
   "id": "463b0796",
   "metadata": {},
   "outputs": [],
   "source": [
    "#split ZCTA from zip code \n",
    "median_income = pd.read_csv(file_path4, usecols=['NAME', 'S1901_C01_012E'], dtype = {'S1901_C01_012E': 'object'}, converters={'NAME': lambda s: s.split(' ')[1]})\n",
    "#dropped first row \n",
    "median_income.drop(0, axis = 0, inplace=True)\n",
    "#renamed columns for continuity \n",
    "median_income.rename(columns = {'NAME':'zip','S1901_C01_012E':'median_income'}, inplace=True)"
   ]
  },
  {
   "cell_type": "code",
   "execution_count": 10,
   "id": "3b4b405f",
   "metadata": {
    "scrolled": true
   },
   "outputs": [],
   "source": [
    "#used columns that have 'lim80' or columns that have 'fips2010'. \n",
    "#Original dataset has income limits for very and extremely low income\n",
    "income_limit = pd.read_excel(file_path5, usecols=lambda col: 'Lim80' in col or col == 'fips2010', converters={'fips2010': lambda s: s[:5]})\n",
    "#removed all columns that have 'lim80_22'\n",
    "income_limit.rename(columns=lambda col: col.replace('Lim80_22', '') if col != 'fips2010' else 'county', inplace=True)\n",
    "#group by counties and averge. This is to account for regions that have multiple zip codes and income limits but the same county \n",
    "income_limit = income_limit.groupby('county').mean()"
   ]
  },
  {
   "cell_type": "code",
   "execution_count": 11,
   "id": "f6485b49",
   "metadata": {},
   "outputs": [],
   "source": [
    "#merge median_income to zip_county by using inner join on zip column\n",
    "merged_data = pd.merge(zip_county, median_income, how='inner', on=['zip'])\n",
    "#merged household_size to merged data dataframe by using inner join on zip column \n",
    "merged_data = pd.merge(merged_data, household_size, how='inner', on=['zip'])\n",
    "#merged income limit to merged_data by inner join on county zip column \n",
    "merged_data = pd.merge(merged_data, income_limit, how='inner', on=['county'])"
   ]
  },
  {
   "cell_type": "code",
   "execution_count": 20,
   "id": "ba4ff6fe",
   "metadata": {},
   "outputs": [],
   "source": [
    "#copying merged_w_limit to tmp df\n",
    "#Using deep = True, modifications to the data or indices of the copy will not be reflected in the original object\n",
    "tmp = merged_data.copy(deep=True)\n",
    "\n",
    "#function to retrieve income limit by household size. \n",
    "def get_income_limit_for_household(row):\n",
    "    try:\n",
    "        col_name = f\"p{row.avg_size}\"\n",
    "        return row[col_name]\n",
    "    except KeyError:\n",
    "        return '-'\n",
    "#applying function to temporary table to on 'low_income_limit' col\n",
    "tmp['low_income_limit'] = tmp.apply(get_income_limit_for_household, axis=1)\n",
    "\n",
    "#removing rows where 'median_income' & 'low_income_limit' does not have a value\n",
    "tmp = tmp[tmp['low_income_limit'] != '-']\n",
    "tmp = tmp[tmp['median_income'] != '-']\n",
    "\n",
    "merged_w_limit = tmp"
   ]
  },
  {
   "cell_type": "code",
   "execution_count": 22,
   "id": "1db09c8d",
   "metadata": {},
   "outputs": [
    {
     "data": {
      "text/plain": [
       "30620"
      ]
     },
     "execution_count": 22,
     "metadata": {},
     "output_type": "execute_result"
    }
   ],
   "source": [
    "# making a temporary copy of merged_w_limit to retrieve records with greater than 1 zipcode per income limit \n",
    "# this is to capture zipcodes with duplicates but different income limits.  \n",
    "tmp = merged_w_limit.copy(deep=True)\n",
    "\n",
    "#group by zipcode and averaged low_income_limit\n",
    "avg_income_data = tmp.groupby('zip', as_index=False)['low_income_limit'].mean()\n",
    "\n",
    "#merge avg_income_data on tmp dataframe by inner join on zip. \n",
    "x = pd.merge(tmp, avg_income_data, how='inner', on=['zip'])\n",
    "\n",
    "#selecting zip, median_income, low_income,limit_y from df x \n",
    "x = x[['zip', 'median_income', 'low_income_limit_y']]\n",
    "x = x.drop_duplicates()\n",
    "\n",
    "#cleaning median_income column removing commas, '+', '-'\n",
    "#function to define income status based on median income > income limit \n",
    "def get_income_status_from_row(row):\n",
    "    median_income = row.median_income.replace('+', '').replace(',','').replace('-', '')\n",
    "    adjusted_income = int(median_income) * .8\n",
    "    return 'LOW' if row.low_income_limit_y > adjusted_income else 'NORMAL'\n",
    "\n",
    "x['income_status'] = x.apply(get_income_status_from_row, axis=1)\n",
    "\n",
    "final_data = x[['zip', 'income_status']]\n",
    "len(final_data)\n",
    "#final_data.head()"
   ]
  },
  {
   "cell_type": "code",
   "execution_count": 23,
   "id": "1f15fc88",
   "metadata": {},
   "outputs": [
    {
     "data": {
      "text/html": [
       "<div>\n",
       "<style scoped>\n",
       "    .dataframe tbody tr th:only-of-type {\n",
       "        vertical-align: middle;\n",
       "    }\n",
       "\n",
       "    .dataframe tbody tr th {\n",
       "        vertical-align: top;\n",
       "    }\n",
       "\n",
       "    .dataframe thead th {\n",
       "        text-align: right;\n",
       "    }\n",
       "</style>\n",
       "<table border=\"1\" class=\"dataframe\">\n",
       "  <thead>\n",
       "    <tr style=\"text-align: right;\">\n",
       "      <th></th>\n",
       "      <th>zip</th>\n",
       "      <th>income_status</th>\n",
       "    </tr>\n",
       "  </thead>\n",
       "  <tbody>\n",
       "    <tr>\n",
       "      <th>0</th>\n",
       "      <td>00683</td>\n",
       "      <td>LOW</td>\n",
       "    </tr>\n",
       "    <tr>\n",
       "      <th>5</th>\n",
       "      <td>00667</td>\n",
       "      <td>LOW</td>\n",
       "    </tr>\n",
       "    <tr>\n",
       "      <th>7</th>\n",
       "      <td>00622</td>\n",
       "      <td>LOW</td>\n",
       "    </tr>\n",
       "    <tr>\n",
       "      <th>8</th>\n",
       "      <td>00623</td>\n",
       "      <td>LOW</td>\n",
       "    </tr>\n",
       "    <tr>\n",
       "      <th>10</th>\n",
       "      <td>00680</td>\n",
       "      <td>LOW</td>\n",
       "    </tr>\n",
       "  </tbody>\n",
       "</table>\n",
       "</div>"
      ],
      "text/plain": [
       "      zip income_status\n",
       "0   00683           LOW\n",
       "5   00667           LOW\n",
       "7   00622           LOW\n",
       "8   00623           LOW\n",
       "10  00680           LOW"
      ]
     },
     "execution_count": 23,
     "metadata": {},
     "output_type": "execute_result"
    }
   ],
   "source": [
    "final_data.head()"
   ]
  }
 ],
 "metadata": {
  "kernelspec": {
   "display_name": "Python 3 (ipykernel)",
   "language": "python",
   "name": "python3"
  },
  "language_info": {
   "codemirror_mode": {
    "name": "ipython",
    "version": 3
   },
   "file_extension": ".py",
   "mimetype": "text/x-python",
   "name": "python",
   "nbconvert_exporter": "python",
   "pygments_lexer": "ipython3",
   "version": "3.9.12"
  }
 },
 "nbformat": 4,
 "nbformat_minor": 5
}
